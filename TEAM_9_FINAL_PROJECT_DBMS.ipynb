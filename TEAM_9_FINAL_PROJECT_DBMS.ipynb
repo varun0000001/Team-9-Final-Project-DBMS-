{
  "cells": [
    {
      "cell_type": "markdown",
      "id": "2a215d2c",
      "metadata": {
        "id": "2a215d2c"
      },
      "source": [
        "   ## CODING PROJECT DBMS FALL 2023"
      ]
    },
    {
      "cell_type": "code",
      "execution_count": null,
      "id": "196eba65",
      "metadata": {
        "scrolled": true,
        "colab": {
          "base_uri": "https://localhost:8080/"
        },
        "id": "196eba65",
        "outputId": "c22446ba-da3f-485c-e9d2-0a0dc39a78ff"
      },
      "outputs": [
        {
          "output_type": "stream",
          "name": "stdout",
          "text": [
            "Requirement already satisfied: psycopg2 in /usr/local/lib/python3.10/dist-packages (2.9.9)\n"
          ]
        }
      ],
      "source": [
        "pip install -U psycopg2"
      ]
    },
    {
      "cell_type": "code",
      "execution_count": null,
      "id": "5154f3b5",
      "metadata": {
        "id": "5154f3b5"
      },
      "outputs": [],
      "source": [
        "import psycopg2\n",
        "from psycopg2 import sql\n",
        "\n",
        "# We have already created database named database_management.\n",
        "\n",
        "# Function to execute SQL commands within a transaction\n",
        "import psycopg2\n",
        "from psycopg2 import sql\n",
        "from psycopg2.extensions import ISOLATION_LEVEL_SERIALIZABLE\n",
        "\n",
        "# We have already created database named database_management.\n",
        "import psycopg2\n",
        "from psycopg2 import sql\n",
        "from psycopg2.extensions import ISOLATION_LEVEL_SERIALIZABLE\n",
        "\n",
        "# We have already created database named database_management.\n",
        "\n",
        "\n",
        "def execute_transaction(sql_commands):\n",
        "    connection = psycopg2.connect(\n",
        "        host=\"localhost\",\n",
        "        database=\"data_management\",\n",
        "        user=\"postgres\",\n",
        "        password=\"Sony@123\"\n",
        "    )\n",
        "    connection.autocommit = False  # Turn off autocommit to manage transactions\n",
        "    cursor = connection.cursor()\n",
        "\n",
        "    try:\n",
        "        # Set isolation level to SERIALIZABLE\n",
        "        connection.set_isolation_level(ISOLATION_LEVEL_SERIALIZABLE)\n",
        "\n",
        "        # Create a savepoint before performing critical operations\n",
        "        cursor.execute(\"SAVEPOINT critical_operations\")\n",
        "\n",
        "        for sql_command in sql_commands:\n",
        "            cursor.execute(sql_command)\n",
        "\n",
        "        connection.commit()  # Commit the transaction if everything is successful\n",
        "        print(\"Query ran successfully\")\n",
        "    except Exception as e:\n",
        "        print(f\"Query Exceution failed: {e}\")\n",
        "\n",
        "        # Rollback to the savepoint if an error occurs during critical operations\n",
        "        connection.rollback_to_savepoint(\"critical_operations\")\n",
        "        print(\"Rolled back to savepoint\")\n",
        "\n",
        "    finally:\n",
        "        cursor.close()\n",
        "        connection.close()\n"
      ]
    },
    {
      "cell_type": "code",
      "execution_count": null,
      "id": "6ff4245f",
      "metadata": {
        "id": "6ff4245f"
      },
      "outputs": [],
      "source": [
        "#Run this query in postgresql to create database.\n",
        "#create database data_management;"
      ]
    },
    {
      "cell_type": "code",
      "execution_count": null,
      "id": "181012b5",
      "metadata": {
        "id": "181012b5"
      },
      "outputs": [],
      "source": [
        "# Drop tables if they already exist\n",
        "drop_tables = \"\"\"\n",
        "DROP TABLE IF EXISTS Stock;\n",
        "DROP TABLE IF EXISTS Depot;\n",
        "DROP TABLE IF EXISTS Product;\n",
        "\"\"\"\n",
        "\n",
        "execute_transaction([drop_tables])\n",
        "\n"
      ]
    },
    {
      "cell_type": "code",
      "execution_count": null,
      "id": "27b29ccf",
      "metadata": {
        "id": "27b29ccf",
        "outputId": "fe400f92-bc4c-496c-ac7f-540d1a3b003b"
      },
      "outputs": [
        {
          "name": "stdout",
          "output_type": "stream",
          "text": [
            "Transaction successful\n"
          ]
        }
      ],
      "source": [
        "# Create tables without primary and foreign keys\n",
        "create_tables = \"\"\"\n",
        "CREATE TABLE IF NOT EXISTS Product (\n",
        "    prodid VARCHAR(10),\n",
        "    name VARCHAR(25),\n",
        "    price DECIMAL\n",
        ");\n",
        "\n",
        "CREATE TABLE IF NOT EXISTS Depot (\n",
        "    depid VARCHAR(10),\n",
        "    addr VARCHAR(30),\n",
        "    volume DECIMAL\n",
        ");\n",
        "\n",
        "CREATE TABLE IF NOT EXISTS Stock (\n",
        "    prodid VARCHAR(10),\n",
        "    depid VARCHAR(10),\n",
        "    quantity DECIMAL\n",
        ");\n",
        "\"\"\"\n",
        "\n",
        "# Execute table creation\n",
        "execute_transaction([create_tables])\n",
        "\n"
      ]
    },
    {
      "cell_type": "code",
      "execution_count": null,
      "id": "3432138a",
      "metadata": {
        "id": "3432138a",
        "outputId": "8d29371e-792a-4641-9fe5-b9247630fd56"
      },
      "outputs": [
        {
          "name": "stdout",
          "output_type": "stream",
          "text": [
            "Transaction successful\n"
          ]
        }
      ],
      "source": [
        "# Add primary and foreign keys using ALTER TABLE\n",
        "alter_table_commands = \"\"\"\n",
        "ALTER TABLE Product\n",
        "    ADD PRIMARY KEY (prodid);\n",
        "\n",
        "ALTER TABLE Product\n",
        "    ADD CONSTRAINT ck_product_price CHECK (price > 0);\n",
        "\n",
        "ALTER TABLE Depot\n",
        "    ADD PRIMARY KEY (depid);\n",
        "\n",
        "ALTER TABLE Stock\n",
        "    ADD PRIMARY KEY (prodid, depid);\n",
        "\n",
        "ALTER TABLE Stock\n",
        "    ADD CONSTRAINT fk_prodid FOREIGN KEY (prodid) REFERENCES Product (prodid);\n",
        "\n",
        "ALTER TABLE Stock\n",
        "    ADD CONSTRAINT fk_stock_depot FOREIGN KEY (depid) REFERENCES Depot (depid);\n",
        "\"\"\"\n",
        "\n",
        "# Execute ALTER TABLE commands\n",
        "execute_transaction([alter_table_commands])\n",
        "\n"
      ]
    },
    {
      "cell_type": "code",
      "execution_count": null,
      "id": "61590c43",
      "metadata": {
        "id": "61590c43",
        "outputId": "869c066d-9a46-41bd-d310-ffdfa20c9131"
      },
      "outputs": [
        {
          "name": "stdout",
          "output_type": "stream",
          "text": [
            "Transaction successful\n"
          ]
        }
      ],
      "source": [
        "# Insert initial values\n",
        "insert_values = \"\"\"\n",
        "INSERT INTO Product VALUES\n",
        "    ('P1', 'Tape', 2.5),\n",
        "    ('P2', 'TV', 250),\n",
        "    ('P3', 'Vcr', 80);\n",
        "\n",
        "INSERT INTO Depot VALUES\n",
        "    ('d1', 'New York', 9000),\n",
        "    ('d2', 'Syracuse', 6000),\n",
        "    ('d4', 'New York', 2000);\n",
        "\n",
        "INSERT INTO Stock VALUES\n",
        "    ('P1', 'd1', 1000),\n",
        "    ('P1', 'd2', -100),\n",
        "    ('P1', 'd4', 1200),\n",
        "    ('P3', 'd1', 3000),\n",
        "    ('P3', 'd4', 2000),\n",
        "    ('P2', 'd4', 1500),\n",
        "    ('P2', 'd1', -400),\n",
        "    ('P2', 'd2', 2000);\n",
        "\"\"\"\n",
        "\n",
        "# Execute initial value insertion\n",
        "execute_transaction([insert_values])\n",
        "\n"
      ]
    },
    {
      "cell_type": "code",
      "execution_count": null,
      "id": "5ce2c470",
      "metadata": {
        "id": "5ce2c470",
        "outputId": "d67bc903-eb77-422d-f98b-1307f27a7997"
      },
      "outputs": [
        {
          "name": "stdout",
          "output_type": "stream",
          "text": [
            "Transaction successful\n"
          ]
        }
      ],
      "source": [
        "Transaction = [\n",
        "\"BEGIN;\"\n",
        "#Drop foreign key constraint\n",
        "\"ALTER TABLE Stock DROP CONSTRAINT IF EXISTS fk_prodid;\"\n",
        "#Delete from Stock\n",
        "\"DELETE FROM Stock WHERE prodid = 'P1';\"\n",
        "#Delete from Product\n",
        "\"DELETE FROM Product WHERE prodid = 'P1';\"\n",
        "#Add foreign key constraint back\n",
        "\"ALTER TABLE Stock ADD CONSTRAINT fk_prodid FOREIGN KEY (prodid) REFERENCES Product (prodid) DEFERRABLE INITIALLY IMMEDIATE;\"\n",
        "#\"ROLLBACK;\"\n",
        "\n",
        "\"COMMIT;\"\n",
        "\n",
        "]\n",
        "\n",
        "execute_transaction(Transaction)\n",
        "\n",
        "\n"
      ]
    },
    {
      "cell_type": "code",
      "execution_count": null,
      "id": "4067ebfd",
      "metadata": {
        "id": "4067ebfd"
      },
      "outputs": [],
      "source": []
    }
  ],
  "metadata": {
    "kernelspec": {
      "display_name": "Python 3 (ipykernel)",
      "language": "python",
      "name": "python3"
    },
    "language_info": {
      "codemirror_mode": {
        "name": "ipython",
        "version": 3
      },
      "file_extension": ".py",
      "mimetype": "text/x-python",
      "name": "python",
      "nbconvert_exporter": "python",
      "pygments_lexer": "ipython3",
      "version": "3.11.5"
    },
    "colab": {
      "provenance": []
    }
  },
  "nbformat": 4,
  "nbformat_minor": 5
}